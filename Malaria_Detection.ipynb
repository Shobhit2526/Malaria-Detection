{
  "nbformat": 4,
  "nbformat_minor": 0,
  "metadata": {
    "colab": {
      "name": "Malaria_Detection.ipynb",
      "provenance": [],
      "collapsed_sections": []
    },
    "kernelspec": {
      "name": "python3",
      "display_name": "Python 3"
    },
    "accelerator": "GPU"
  },
  "cells": [
    {
      "cell_type": "code",
      "metadata": {
        "id": "hhvS6BDHg6WI",
        "colab_type": "code",
        "outputId": "68e381b1-883b-47d2-a0c7-03fc4e6030f0",
        "colab": {
          "base_uri": "https://localhost:8080/",
          "height": 558
        }
      },
      "source": [
        "!pip install tensorflow-gpu==2.0.0-rc0"
      ],
      "execution_count": 1,
      "outputs": [
        {
          "output_type": "stream",
          "text": [
            "Collecting tensorflow-gpu==2.0.0-rc0\n",
            "\u001b[?25l  Downloading https://files.pythonhosted.org/packages/6a/12/8c64cc62149cc21c70c55018502831bbf4d42bd62bed196df7de6830d21b/tensorflow_gpu-2.0.0rc0-cp36-cp36m-manylinux2010_x86_64.whl (380.5MB)\n",
            "\u001b[K     |████████████████████████████████| 380.5MB 44kB/s \n",
            "\u001b[?25hRequirement already satisfied: astor>=0.6.0 in /usr/local/lib/python3.6/dist-packages (from tensorflow-gpu==2.0.0-rc0) (0.8.1)\n",
            "Requirement already satisfied: grpcio>=1.8.6 in /usr/local/lib/python3.6/dist-packages (from tensorflow-gpu==2.0.0-rc0) (1.29.0)\n",
            "Requirement already satisfied: wrapt>=1.11.1 in /usr/local/lib/python3.6/dist-packages (from tensorflow-gpu==2.0.0-rc0) (1.12.1)\n",
            "Requirement already satisfied: opt-einsum>=2.3.2 in /usr/local/lib/python3.6/dist-packages (from tensorflow-gpu==2.0.0-rc0) (3.2.1)\n",
            "Requirement already satisfied: keras-preprocessing>=1.0.5 in /usr/local/lib/python3.6/dist-packages (from tensorflow-gpu==2.0.0-rc0) (1.1.2)\n",
            "Collecting tf-estimator-nightly<1.14.0.dev2019080602,>=1.14.0.dev2019080601\n",
            "\u001b[?25l  Downloading https://files.pythonhosted.org/packages/21/28/f2a27a62943d5f041e4a6fd404b2d21cb7c59b2242a4e73b03d9ba166552/tf_estimator_nightly-1.14.0.dev2019080601-py2.py3-none-any.whl (501kB)\n",
            "\u001b[K     |████████████████████████████████| 501kB 49.5MB/s \n",
            "\u001b[?25hRequirement already satisfied: wheel>=0.26 in /usr/local/lib/python3.6/dist-packages (from tensorflow-gpu==2.0.0-rc0) (0.34.2)\n",
            "Requirement already satisfied: gast>=0.2.0 in /usr/local/lib/python3.6/dist-packages (from tensorflow-gpu==2.0.0-rc0) (0.3.3)\n",
            "Requirement already satisfied: protobuf>=3.6.1 in /usr/local/lib/python3.6/dist-packages (from tensorflow-gpu==2.0.0-rc0) (3.10.0)\n",
            "Collecting tb-nightly<1.15.0a20190807,>=1.15.0a20190806\n",
            "\u001b[?25l  Downloading https://files.pythonhosted.org/packages/bc/88/24b5fb7280e74c7cf65bde47c171547fd02afb3840cff41bcbe9270650f5/tb_nightly-1.15.0a20190806-py3-none-any.whl (4.3MB)\n",
            "\u001b[K     |████████████████████████████████| 4.3MB 47.7MB/s \n",
            "\u001b[?25hRequirement already satisfied: six>=1.10.0 in /usr/local/lib/python3.6/dist-packages (from tensorflow-gpu==2.0.0-rc0) (1.12.0)\n",
            "Requirement already satisfied: termcolor>=1.1.0 in /usr/local/lib/python3.6/dist-packages (from tensorflow-gpu==2.0.0-rc0) (1.1.0)\n",
            "Requirement already satisfied: absl-py>=0.7.0 in /usr/local/lib/python3.6/dist-packages (from tensorflow-gpu==2.0.0-rc0) (0.9.0)\n",
            "Requirement already satisfied: keras-applications>=1.0.8 in /usr/local/lib/python3.6/dist-packages (from tensorflow-gpu==2.0.0-rc0) (1.0.8)\n",
            "Requirement already satisfied: google-pasta>=0.1.6 in /usr/local/lib/python3.6/dist-packages (from tensorflow-gpu==2.0.0-rc0) (0.2.0)\n",
            "Requirement already satisfied: numpy<2.0,>=1.16.0 in /usr/local/lib/python3.6/dist-packages (from tensorflow-gpu==2.0.0-rc0) (1.18.4)\n",
            "Requirement already satisfied: setuptools in /usr/local/lib/python3.6/dist-packages (from protobuf>=3.6.1->tensorflow-gpu==2.0.0-rc0) (46.3.0)\n",
            "Requirement already satisfied: werkzeug>=0.11.15 in /usr/local/lib/python3.6/dist-packages (from tb-nightly<1.15.0a20190807,>=1.15.0a20190806->tensorflow-gpu==2.0.0-rc0) (1.0.1)\n",
            "Requirement already satisfied: markdown>=2.6.8 in /usr/local/lib/python3.6/dist-packages (from tb-nightly<1.15.0a20190807,>=1.15.0a20190806->tensorflow-gpu==2.0.0-rc0) (3.2.2)\n",
            "Requirement already satisfied: h5py in /usr/local/lib/python3.6/dist-packages (from keras-applications>=1.0.8->tensorflow-gpu==2.0.0-rc0) (2.10.0)\n",
            "Requirement already satisfied: importlib-metadata; python_version < \"3.8\" in /usr/local/lib/python3.6/dist-packages (from markdown>=2.6.8->tb-nightly<1.15.0a20190807,>=1.15.0a20190806->tensorflow-gpu==2.0.0-rc0) (1.6.0)\n",
            "Requirement already satisfied: zipp>=0.5 in /usr/local/lib/python3.6/dist-packages (from importlib-metadata; python_version < \"3.8\"->markdown>=2.6.8->tb-nightly<1.15.0a20190807,>=1.15.0a20190806->tensorflow-gpu==2.0.0-rc0) (3.1.0)\n",
            "Installing collected packages: tf-estimator-nightly, tb-nightly, tensorflow-gpu\n",
            "Successfully installed tb-nightly-1.15.0a20190806 tensorflow-gpu-2.0.0rc0 tf-estimator-nightly-1.14.0.dev2019080601\n"
          ],
          "name": "stdout"
        }
      ]
    },
    {
      "cell_type": "code",
      "metadata": {
        "id": "dhV9T42xhZfl",
        "colab_type": "code",
        "colab": {}
      },
      "source": [
        " import tensorflow as tf\n",
        " from tensorflow import keras\n",
        " from tensorflow.keras import Sequential\n",
        " from tensorflow.keras.layers import Flatten, Dense, Conv2D, MaxPool2D, ZeroPadding2D, Dropout\n",
        " from tensorflow.keras.preprocessing.image import ImageDataGenerator\n",
        " from tensorflow.keras import optimizers"
      ],
      "execution_count": 0,
      "outputs": []
    },
    {
      "cell_type": "code",
      "metadata": {
        "id": "6KpbnFX3hZiC",
        "colab_type": "code",
        "colab": {}
      },
      "source": [
        "import numpy as np\n",
        "import matplotlib.pyplot as plt"
      ],
      "execution_count": 0,
      "outputs": []
    },
    {
      "cell_type": "code",
      "metadata": {
        "id": "LQ_Z4FzyhZk5",
        "colab_type": "code",
        "colab": {
          "base_uri": "https://localhost:8080/",
          "height": 134
        },
        "outputId": "f6a5d3e7-7ff1-4868-c5e6-67d7d313f28d"
      },
      "source": [
        "!git clone https://github.com/Shobhit2526/Malaria-Detection.git"
      ],
      "execution_count": 4,
      "outputs": [
        {
          "output_type": "stream",
          "text": [
            "Cloning into 'Malaria-Detection'...\n",
            "remote: Enumerating objects: 27566, done.\u001b[K\n",
            "remote: Counting objects: 100% (27566/27566), done.\u001b[K\n",
            "remote: Compressing objects: 100% (27565/27565), done.\u001b[K\n",
            "remote: Total 27566 (delta 0), reused 27566 (delta 0), pack-reused 0\u001b[K\n",
            "Receiving objects: 100% (27566/27566), 331.64 MiB | 50.73 MiB/s, done.\n",
            "Checking out files: 100% (27561/27561), done.\n"
          ],
          "name": "stdout"
        }
      ]
    },
    {
      "cell_type": "code",
      "metadata": {
        "id": "VzVAQdJfhZna",
        "colab_type": "code",
        "colab": {}
      },
      "source": [
        "img_width = 64\n",
        "img_heigth = 64"
      ],
      "execution_count": 0,
      "outputs": []
    },
    {
      "cell_type": "code",
      "metadata": {
        "id": "nyrso6AnhZqK",
        "colab_type": "code",
        "colab": {}
      },
      "source": [
        "datagen = ImageDataGenerator(rescale=1/255.0, validation_split=0.2)"
      ],
      "execution_count": 0,
      "outputs": []
    },
    {
      "cell_type": "code",
      "metadata": {
        "id": "I8J-fPjYhZs6",
        "colab_type": "code",
        "colab": {
          "base_uri": "https://localhost:8080/",
          "height": 34
        },
        "outputId": "86760870-3b00-43aa-ff11-bb993e82b1cd"
      },
      "source": [
        "train_data_generator = datagen.flow_from_directory(directory='/content/Malaria-Detection/Dataset',\n",
        "                                                   target_size = (64,64),\n",
        "                                                   class_mode = 'binary',\n",
        "                                                   batch_size = 16,\n",
        "                                                   subset = 'training'\n",
        "                                                   )"
      ],
      "execution_count": 7,
      "outputs": [
        {
          "output_type": "stream",
          "text": [
            "Found 22048 images belonging to 2 classes.\n"
          ],
          "name": "stdout"
        }
      ]
    },
    {
      "cell_type": "code",
      "metadata": {
        "id": "S68L_yJ2hZvq",
        "colab_type": "code",
        "colab": {
          "base_uri": "https://localhost:8080/",
          "height": 34
        },
        "outputId": "0ff7829a-44f1-472a-d6e9-91e5389083dc"
      },
      "source": [
        "validation_data_generator = datagen.flow_from_directory(directory='/content/Malaria-Detection/Dataset',\n",
        "                                                   target_size = (64,64),\n",
        "                                                   class_mode = 'binary',\n",
        "                                                   batch_size = 16,\n",
        "                                                   subset = 'validation'\n",
        "                                                   )"
      ],
      "execution_count": 8,
      "outputs": [
        {
          "output_type": "stream",
          "text": [
            "Found 5510 images belonging to 2 classes.\n"
          ],
          "name": "stdout"
        }
      ]
    },
    {
      "cell_type": "code",
      "metadata": {
        "id": "ts5YB97LhZyK",
        "colab_type": "code",
        "colab": {
          "base_uri": "https://localhost:8080/",
          "height": 34
        },
        "outputId": "6c85d0df-a0ec-455c-d390-2072451e748f"
      },
      "source": [
        "train_data_generator.labels"
      ],
      "execution_count": 9,
      "outputs": [
        {
          "output_type": "execute_result",
          "data": {
            "text/plain": [
              "array([0, 0, 0, ..., 1, 1, 1], dtype=int32)"
            ]
          },
          "metadata": {
            "tags": []
          },
          "execution_count": 9
        }
      ]
    },
    {
      "cell_type": "code",
      "metadata": {
        "id": "GHNj6OkRhZ0y",
        "colab_type": "code",
        "colab": {}
      },
      "source": [
        "model = Sequential()\n",
        "\n",
        "model.add(Conv2D(16,(3,3),input_shape = (img_width,img_heigth,3), activation = 'relu'))\n",
        "model.add(MaxPool2D(2,2))\n",
        "model.add(Dropout(0.2))\n",
        "\n",
        "model.add(Conv2D(32,(3,3), activation = 'relu'))\n",
        "model.add(MaxPool2D(2,2))\n",
        "model.add(Dropout(0.2))\n",
        "\n",
        "model.add(Flatten())\n",
        "model.add(Dense(64, activation = 'relu'))\n",
        "model.add(Dropout(0.5))\n",
        "\n",
        "model.add(Dense(1,activation='sigmoid'))"
      ],
      "execution_count": 0,
      "outputs": []
    },
    {
      "cell_type": "code",
      "metadata": {
        "id": "7jTrMZ3nhZ3a",
        "colab_type": "code",
        "colab": {
          "base_uri": "https://localhost:8080/",
          "height": 487
        },
        "outputId": "36cbed20-3628-4865-9736-3571a50fcc4d"
      },
      "source": [
        "model.summary()"
      ],
      "execution_count": 15,
      "outputs": [
        {
          "output_type": "stream",
          "text": [
            "Model: \"sequential_3\"\n",
            "_________________________________________________________________\n",
            "Layer (type)                 Output Shape              Param #   \n",
            "=================================================================\n",
            "conv2d_5 (Conv2D)            (None, 62, 62, 16)        448       \n",
            "_________________________________________________________________\n",
            "max_pooling2d_2 (MaxPooling2 (None, 31, 31, 16)        0         \n",
            "_________________________________________________________________\n",
            "dropout_2 (Dropout)          (None, 31, 31, 16)        0         \n",
            "_________________________________________________________________\n",
            "conv2d_6 (Conv2D)            (None, 29, 29, 32)        4640      \n",
            "_________________________________________________________________\n",
            "max_pooling2d_3 (MaxPooling2 (None, 14, 14, 32)        0         \n",
            "_________________________________________________________________\n",
            "dropout_3 (Dropout)          (None, 14, 14, 32)        0         \n",
            "_________________________________________________________________\n",
            "flatten (Flatten)            (None, 6272)              0         \n",
            "_________________________________________________________________\n",
            "dense (Dense)                (None, 64)                401472    \n",
            "_________________________________________________________________\n",
            "dropout_4 (Dropout)          (None, 64)                0         \n",
            "_________________________________________________________________\n",
            "dense_1 (Dense)              (None, 1)                 65        \n",
            "=================================================================\n",
            "Total params: 406,625\n",
            "Trainable params: 406,625\n",
            "Non-trainable params: 0\n",
            "_________________________________________________________________\n"
          ],
          "name": "stdout"
        }
      ]
    },
    {
      "cell_type": "code",
      "metadata": {
        "id": "Bfha93HdhZ6b",
        "colab_type": "code",
        "colab": {}
      },
      "source": [
        "model.compile(optimizers='adam',loss = 'binary_crossentropy',metrics = ['accuracy'])"
      ],
      "execution_count": 0,
      "outputs": []
    },
    {
      "cell_type": "code",
      "metadata": {
        "id": "zkh8pfsDhZ9a",
        "colab_type": "code",
        "colab": {
          "base_uri": "https://localhost:8080/",
          "height": 255
        },
        "outputId": "6f74d9da-d3c5-4d58-94e3-c06a75e28a76"
      },
      "source": [
        "history = model.fit_generator(generator = train_data_generator,\n",
        "                              steps_per_epoch = len(train_data_generator),\n",
        "                              epochs = 5,\n",
        "                              validation_data = validation_data_generator,\n",
        "                              validation_steps = len(validation_data_generator))"
      ],
      "execution_count": 18,
      "outputs": [
        {
          "output_type": "stream",
          "text": [
            "Epoch 1/5\n",
            "WARNING:tensorflow:From /usr/local/lib/python3.6/dist-packages/tensorflow_core/python/ops/math_grad.py:1394: where (from tensorflow.python.ops.array_ops) is deprecated and will be removed in a future version.\n",
            "Instructions for updating:\n",
            "Use tf.where in 2.0, which has the same broadcast rule as np.where\n",
            "1378/1378 [==============================] - 68s 49ms/step - loss: 0.5184 - accuracy: 0.7406 - val_loss: 0.3043 - val_accuracy: 0.9207\n",
            "Epoch 2/5\n",
            "1378/1378 [==============================] - 62s 45ms/step - loss: 0.2435 - accuracy: 0.9222 - val_loss: 0.2852 - val_accuracy: 0.9417\n",
            "Epoch 3/5\n",
            "1378/1378 [==============================] - 63s 46ms/step - loss: 0.2352 - accuracy: 0.9380 - val_loss: 0.2974 - val_accuracy: 0.9448\n",
            "Epoch 4/5\n",
            "1378/1378 [==============================] - 62s 45ms/step - loss: 0.2442 - accuracy: 0.9421 - val_loss: 0.2715 - val_accuracy: 0.9408\n",
            "Epoch 5/5\n",
            "1378/1378 [==============================] - 62s 45ms/step - loss: 0.2375 - accuracy: 0.9436 - val_loss: 0.2681 - val_accuracy: 0.9448\n"
          ],
          "name": "stdout"
        }
      ]
    },
    {
      "cell_type": "code",
      "metadata": {
        "id": "Mx-__ylwhaAC",
        "colab_type": "code",
        "colab": {
          "base_uri": "https://localhost:8080/",
          "height": 218
        },
        "outputId": "7b592d04-1f30-49c3-8a53-e76fb5d4ea28"
      },
      "source": [
        "history.history"
      ],
      "execution_count": 19,
      "outputs": [
        {
          "output_type": "execute_result",
          "data": {
            "text/plain": [
              "{'accuracy': [0.740566, 0.9221698, 0.93795353, 0.9420809, 0.943623],\n",
              " 'loss': [0.5183793431302027,\n",
              "  0.24351074058949104,\n",
              "  0.2351710903323127,\n",
              "  0.24419717873069519,\n",
              "  0.23753018200404927],\n",
              " 'val_accuracy': [0.92068964, 0.9417423, 0.94482756, 0.9408348, 0.94482756],\n",
              " 'val_loss': [0.30433499003234116,\n",
              "  0.2852051605349002,\n",
              "  0.2973962307840154,\n",
              "  0.2715472343661215,\n",
              "  0.2680800716622152]}"
            ]
          },
          "metadata": {
            "tags": []
          },
          "execution_count": 19
        }
      ]
    },
    {
      "cell_type": "code",
      "metadata": {
        "id": "Pcy4MLRQm3V4",
        "colab_type": "code",
        "colab": {}
      },
      "source": [
        "def plot_learningCurve(history,epoch):\n",
        "  #plot training & validation accuracy values\n",
        "   epoch_range = range(1,epoch+1)\n",
        "   plt.plot(epoch_range,history.history['accuracy'])\n",
        "   plt.plot(epoch_range,history.history['val_accuracy'])\n",
        "   plt.title('Model_Accuracy')\n",
        "   plt.ylabel('Accuracy')\n",
        "   plt.xlabel('Epoch')\n",
        "   plt.legend(['Train','Val'],loc = 'upper left')\n",
        "   plt.show()\n",
        "#plot training & validtaion loss values\n",
        "   plt.plot(epoch_range,history.history['loss'])\n",
        "   plt.plot(epoch_range,history.history['val_loss'])\n",
        "   plt.title('Model_loss')\n",
        "   plt.ylabel('Loss')\n",
        "   plt.xlabel('Epoch')\n",
        "   plt.legend(['Train','Val'],loc = 'upper left')\n",
        "   plt.show()"
      ],
      "execution_count": 0,
      "outputs": []
    },
    {
      "cell_type": "code",
      "metadata": {
        "id": "Om_nTkKI03J7",
        "colab_type": "code",
        "colab": {
          "base_uri": "https://localhost:8080/",
          "height": 573
        },
        "outputId": "69f03811-128e-47fe-f2ab-359978dce1a9"
      },
      "source": [
        "plot_learningCurve(history,5)"
      ],
      "execution_count": 22,
      "outputs": [
        {
          "output_type": "display_data",
          "data": {
            "image/png": "[encoded data removed]",
            "text/plain": [
              "<Figure size 432x288 with 1 Axes>"
            ]
          },
          "metadata": {
            "tags": [],
            "needs_background": "light"
          }
        },
        {
          "output_type": "display_data",
          "data": {
            "image/png": "[encoded data removed]",
            "text/plain": [
              "<Figure size 432x288 with 1 Axes>"
            ]
          },
          "metadata": {
            "tags": [],
            "needs_background": "light"
          }
        }
      ]
    }
  ]
}